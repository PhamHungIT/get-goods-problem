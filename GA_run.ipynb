{
 "cells": [
  {
   "cell_type": "code",
   "execution_count": 1,
   "metadata": {},
   "outputs": [],
   "source": [
    "from library.EA import *\n",
    "from library.utils.operator.selection import ElitismSelection\n",
    "from library.utils.operator.crossover import OX_Crossover\n",
    "from library.utils.operator.mutation import SwapMutation\n",
    "from library.model.ga import model\n",
    "from library.utils.load_data import Load\n",
    "\n"
   ]
  },
  {
   "cell_type": "code",
   "execution_count": 2,
   "metadata": {},
   "outputs": [],
   "source": [
    "ga_model = model()\n",
    "\n",
    "ga_model.compile(\n",
    "    data_loc=\"library/data/txt_data/case_5.txt\",\n",
    "    crossover=OX_Crossover(),\n",
    "    mutation=SwapMutation(),\n",
    "    selection=ElitismSelection()\n",
    ")\n"
   ]
  },
  {
   "cell_type": "code",
   "execution_count": 3,
   "metadata": {},
   "outputs": [
    {
     "name": "stdout",
     "output_type": "stream",
     "text": [
      "Epoch 1:\n",
      "[ 0  8 15 22 21 18  6 11  1  3 16 27 23 28  4 30] - 4092\n",
      "Epoch 2:\n",
      "[ 0  8 15 22 21 18  6 11  1  3 16 27 23 28  4 30] - 4092\n",
      "Epoch 3:\n",
      "[ 0  8 15 22 21 18  6 11  1  3 16 27 23 28  4 30] - 4092\n",
      "Epoch 4:\n",
      "[ 0 11 12 13  3 16  4 28 10 27 23 14 29 21 15] - 3096\n",
      "Epoch 5:\n",
      "[ 0 11 12 13  3 16  4 28 10 27 23 14 29 21 15] - 3096\n",
      "Epoch 6:\n",
      "[ 0 11 12 13  3 16  4 28 10 27 23 14 29 21 15] - 3096\n",
      "Epoch 7:\n",
      "[ 0 11 12 13  3 16  4 28 10 27 23 14 29 21 15] - 3096\n",
      "Epoch 8:\n",
      "[ 0 11 12 13  3 16  4 28 10 27 23 14 29 21 15] - 3096\n",
      "Epoch 9:\n",
      "[ 0 11 12 13  3 16  4 28 10 27 23 14 29 21 15] - 3096\n",
      "Epoch 10:\n",
      "[ 0  4 19 14  3 10 25 27 11 12  2 18 21 29] - 2893\n",
      "Epoch 11:\n",
      "[ 0 12 22  2 18 21 29 14  3 10 23 24 19] - 2852\n",
      "Epoch 12:\n",
      "[ 0 12 22  2 18 21 29 14  3 10 23 24 19] - 2852\n",
      "Epoch 13:\n",
      "[ 0 30 23 28  3 10 24 19  2 22  7  8 17 27  9] - 2459\n",
      "Epoch 14:\n",
      "[ 0 30 23 28  3 10 24 19  2 22  7  8 17 27  9] - 2459\n",
      "Epoch 15:\n",
      "[ 0 30 23 28  3 10 24 19  2 22  7  8 17 27  9] - 2459\n",
      "Epoch 16:\n",
      "[ 0 30 23 28  3 10 24 19  2 22  7  8 17 27  9] - 2459\n",
      "Epoch 17:\n",
      "[ 0 30 23 28  3 10 24 19  2 22  7  8 17 27  9] - 2459\n",
      "Epoch 18:\n",
      "[ 0 30 23 28  3 10 24 19  2 22  7  8 17 27  9] - 2459\n",
      "Epoch 19:\n",
      "[ 0 30 23 28  3 10 24 19  2 22  7  8 17 27  9] - 2459\n",
      "Epoch 20:\n",
      "[ 0 30 23 28  3 10 24 19  2 22  7  8 17 27  9] - 2459\n",
      "Epoch 21:\n",
      "[ 0 30 23 28  3 10 24 19  2 22  7  8 17 27  9] - 2459\n",
      "Epoch 22:\n",
      "[ 0 12  2 18 21 15 29 10 20 14  3 16  4 28] - 2250\n",
      "Epoch 23:\n",
      "[ 0 12  2 18 21 15 29 10 20 14  3 16  4 28] - 2250\n",
      "Epoch 24:\n",
      "[ 0  4 12 11 30 14  3 10 20 21 23 15 16 29 17] - 2212\n",
      "Epoch 25:\n",
      "[ 0 30  1  2 18 21 29 10 20 14  3 16  4 28] - 2128\n",
      "Epoch 26:\n",
      "[ 0 30  1  2 18 21 29 10 20 14  3 16  4 28] - 2128\n",
      "Epoch 27:\n",
      "[ 0 30  1  2 18 21 29 10 20 14  3 16  4 28] - 2128\n",
      "Epoch 28:\n",
      "[ 0 30 23 28  3 10  8  2 18 21  4 19 14 29] - 2045\n",
      "Epoch 29:\n",
      "[ 0 11 12  2 21 29 14 16  3 10 24 15 23 30] - 1826\n",
      "Epoch 30:\n",
      "[ 0 11 12  2 21 29 14 16  3 10 24 15 23 30] - 1826\n",
      "Epoch 31:\n",
      "[ 0 11 12  2 21 29 14 16  3 10 24 15 23 30] - 1826\n",
      "Epoch 32:\n",
      "[ 0 30 23 28  7 27  2 17  3 10 24 19 14 29 11] - 1808\n",
      "Epoch 33:\n",
      "[ 0 11 12  2 21 29 14  3 10 18  5 16  4 28] - 1737\n",
      "Epoch 34:\n",
      "[ 0 11 12  2 21 29 14  3 10 18  5 16  4 28] - 1737\n",
      "Epoch 35:\n",
      "[ 0  4 12  2 18 29 14 16  3 10 24 23 21 15] - 1729\n",
      "Epoch 36:\n",
      "[ 0  4 12  2 18 29 14 16  3 10 24 23 21 15] - 1729\n",
      "Epoch 37:\n",
      "[ 0  4 12  2 18 29 14 16  3 10 24 23 21 15] - 1729\n",
      "Epoch 38:\n",
      "[ 0  4 25  2 18 21 29 14  3 10 24 19 20 11] - 1709\n",
      "Epoch 39:\n",
      "[ 0 11 12  2 18 21 29 14 16  3 10 24 15 23 30] - 1700\n",
      "Epoch 40:\n",
      "[ 0 25  2 18 21 29 14  3 10 24 19 15 23 28  4] - 1384\n",
      "Epoch 41:\n",
      "[ 0 25  2 18 21 29 14  3 10 24 19 15 23 28  4] - 1384\n",
      "Epoch 42:\n",
      "[ 0 25  2 18 21 29 14  3 10 24 19 15 23 28  4] - 1384\n",
      "Epoch 43:\n",
      "[ 0 25  2 18 21 29 14  3 10 24 19 15 23 28  4] - 1384\n",
      "Epoch 44:\n",
      "[ 0 25  2 18 21 29 14  3 10 24 19 15 23 28  4] - 1384\n",
      "Epoch 45:\n",
      "[ 0 25  2 18 21 29 14  3 10 24 19 15 23 28  4] - 1384\n",
      "Epoch 46:\n",
      "[ 0 25  2 18 21 29 14  3 10 24 19 15 23 28  4] - 1384\n",
      "Epoch 47:\n",
      "[ 0 25  2 18 21 29 14  3 10 24 19 15 23 28  4] - 1384\n",
      "Epoch 48:\n",
      "[ 0  4 12  2 18 21 29 14  3 10 24 15 23 30] - 1366\n",
      "Epoch 49:\n",
      "[ 0  4 12  2 18 21 29 14  3 10 24 15 23 30] - 1366\n",
      "Epoch 50:\n",
      "[ 0  4 12  2 18 21 29 14  3 10 19 24 23 28] - 1271\n",
      "Epoch 51:\n",
      "[ 0  4 12  2 18 21 29 14  3 10 19 24 23 28] - 1271\n",
      "Epoch 52:\n",
      "[ 0  4 12  2 18 21 29 14  3 10 19 24 23 28] - 1271\n",
      "Epoch 53:\n",
      "[ 0  4 12  2 18 21 29 14  3 10 19 24 23 28] - 1271\n",
      "Epoch 54:\n",
      "[ 0  4 12  2 18 21 29 14  3 10 19 24 23 28] - 1271\n",
      "Epoch 55:\n",
      "[ 0  4 12  2 18 21 29 14  3 10 19 24 23 28] - 1271\n",
      "Epoch 56:\n",
      "[ 0 25  2 18 21 29 14  3 10 19 15 23 28  4] - 1269\n",
      "Epoch 57:\n",
      "[ 0 25  2 18 21 29 14  3 10 19 15 23 28  4] - 1269\n",
      "Epoch 58:\n",
      "[ 0 25  2 18 21 29 14  3 10 19 15 23 28  4] - 1269\n",
      "Epoch 59:\n",
      "[ 0 25  2 18 21 29 14  3 10 19 15 23 28  4] - 1269\n",
      "Epoch 60:\n",
      "[ 0 25  2 18 21 29 14  3 10 19 15 23 28  4] - 1269\n",
      "Epoch 61:\n",
      "[ 0 25  2 18 21 29 14  3 10 19 15 23 28  4] - 1269\n",
      "Epoch 62:\n",
      "[ 0 25  2 18 21 29 14  3 10 19 15 23 28  4] - 1269\n",
      "Epoch 63:\n",
      "[ 0 25  2 18 21 29 14  3 10 19 15 23 28  4] - 1269\n",
      "Epoch 64:\n",
      "[ 0 30  2 18 21 29 14  3 10 19 24 15 23 28  4] - 1215\n",
      "Epoch 65:\n",
      "[ 0 30  2 18 21 29 14  3 10 19 24 15 23 28  4] - 1215\n",
      "Epoch 66:\n",
      "[ 0 30  2 18 21 29 14  3 10 19 24 15 23 28  4] - 1215\n",
      "Epoch 67:\n",
      "[ 0  4 12  2 18 21 29 14  3 10 20 23 28] - 1154\n",
      "Epoch 68:\n",
      "[ 0  4 12  2 18 21 29 14  3 10 20 23 28] - 1154\n",
      "Epoch 69:\n",
      "[ 0  4 12  2 18 21 29 14  3 10 20 23 28] - 1154\n",
      "Epoch 70:\n",
      "[ 0  4 12  2 18 21 29 14  3 10 20 23 28] - 1154\n",
      "Epoch 71:\n",
      "[ 0  4 12  2 18 21 29 14  3 10 20 23 28] - 1154\n",
      "Epoch 72:\n",
      "[ 0  4 12  2 18 21 29 14  3 10 20 23 28] - 1154\n",
      "Epoch 73:\n",
      "[ 0  4 12  2 18 21 29 14  3 10 20 23 28] - 1154\n",
      "Epoch 74:\n",
      "[ 0  4 12  2 18 21 29 14  3 10 20 23 28] - 1154\n",
      "Epoch 75:\n",
      "[ 0  4 12  2 18 21 29 14  3 10 20 23 28] - 1154\n",
      "Epoch 76:\n",
      "[ 0  4 12  2 18 21 29 14  3 10 20 23 28] - 1154\n"
     ]
    },
    {
     "ename": "KeyboardInterrupt",
     "evalue": "",
     "output_type": "error",
     "traceback": [
      "\u001b[1;31m---------------------------------------------------------------------------\u001b[0m",
      "\u001b[1;31mKeyboardInterrupt\u001b[0m                         Traceback (most recent call last)",
      "\u001b[1;32md:\\Vincent\\Documents\\Vincent_Hust_20212\\132652 - Planning_Optimization\\Project\\get_goods\\get_goods\\GA_run.ipynb Cell 3'\u001b[0m in \u001b[0;36m<cell line: 1>\u001b[1;34m()\u001b[0m\n\u001b[1;32m----> <a href='vscode-notebook-cell:/d%3A/Vincent/Documents/Vincent_Hust_20212/132652%20-%20Planning_Optimization/Project/get_goods/get_goods/GA_run.ipynb#ch0000002?line=0'>1</a>\u001b[0m ga_model\u001b[39m.\u001b[39;49mfit(\n\u001b[0;32m      <a href='vscode-notebook-cell:/d%3A/Vincent/Documents/Vincent_Hust_20212/132652%20-%20Planning_Optimization/Project/get_goods/get_goods/GA_run.ipynb#ch0000002?line=1'>2</a>\u001b[0m     num_generations\u001b[39m=\u001b[39;49m\u001b[39m100\u001b[39;49m,\n\u001b[0;32m      <a href='vscode-notebook-cell:/d%3A/Vincent/Documents/Vincent_Hust_20212/132652%20-%20Planning_Optimization/Project/get_goods/get_goods/GA_run.ipynb#ch0000002?line=2'>3</a>\u001b[0m     num_individuals\u001b[39m=\u001b[39;49m\u001b[39m1000\u001b[39;49m\n\u001b[0;32m      <a href='vscode-notebook-cell:/d%3A/Vincent/Documents/Vincent_Hust_20212/132652%20-%20Planning_Optimization/Project/get_goods/get_goods/GA_run.ipynb#ch0000002?line=3'>4</a>\u001b[0m )\n",
      "File \u001b[1;32md:\\Vincent\\Documents\\Vincent_Hust_20212\\132652 - Planning_Optimization\\Project\\get_goods\\get_goods\\library\\model\\ga.py:57\u001b[0m, in \u001b[0;36mmodel.fit\u001b[1;34m(self, num_generations, num_individuals, prob_crossover, prob_mutation, *args, **kwargs)\u001b[0m\n\u001b[0;32m     52\u001b[0m \u001b[39m# Merge and update rank\u001b[39;00m\n\u001b[0;32m     53\u001b[0m \u001b[39m# for i in offsprings.list_indiv:\u001b[39;00m\n\u001b[0;32m     54\u001b[0m \u001b[39m#     print(len(i))\u001b[39;00m\n\u001b[0;32m     56\u001b[0m population \u001b[39m=\u001b[39m population \u001b[39m+\u001b[39m offsprings\n\u001b[1;32m---> 57\u001b[0m population\u001b[39m.\u001b[39;49mupdate_rank()\n\u001b[0;32m     58\u001b[0m \u001b[39mself\u001b[39m\u001b[39m.\u001b[39mres\u001b[39m.\u001b[39mappend(population\u001b[39m.\u001b[39mget_best()\u001b[39m.\u001b[39mfcost)\n\u001b[0;32m     59\u001b[0m \u001b[39mprint\u001b[39m(\u001b[39mf\u001b[39m\u001b[39m\"\u001b[39m\u001b[39mEpoch \u001b[39m\u001b[39m{\u001b[39;00mepoch\u001b[39m+\u001b[39m\u001b[39m1\u001b[39m\u001b[39m}\u001b[39;00m\u001b[39m:\u001b[39m\u001b[39m\\n\u001b[39;00m\u001b[39m{\u001b[39;00mpopulation\u001b[39m.\u001b[39mget_best()\u001b[39m.\u001b[39msolution\u001b[39m}\u001b[39;00m\u001b[39m - \u001b[39m\u001b[39m{\u001b[39;00mpopulation\u001b[39m.\u001b[39mget_best()\u001b[39m.\u001b[39mfcost\u001b[39m}\u001b[39;00m\u001b[39m\"\u001b[39m)\n",
      "File \u001b[1;32md:\\Vincent\\Documents\\Vincent_Hust_20212\\132652 - Planning_Optimization\\Project\\get_goods\\get_goods\\library\\EA.py:87\u001b[0m, in \u001b[0;36mPopulation.update_rank\u001b[1;34m(self)\u001b[0m\n\u001b[0;32m     85\u001b[0m \u001b[39mself\u001b[39m\u001b[39m.\u001b[39mnum_indiv \u001b[39m=\u001b[39m \u001b[39mlen\u001b[39m(\u001b[39mself\u001b[39m\u001b[39m.\u001b[39mlist_indiv)\n\u001b[0;32m     86\u001b[0m \u001b[39mself\u001b[39m\u001b[39m.\u001b[39mcost_pop \u001b[39m=\u001b[39m np\u001b[39m.\u001b[39mfull(\u001b[39mself\u001b[39m\u001b[39m.\u001b[39mnum_indiv, np\u001b[39m.\u001b[39minf)\n\u001b[1;32m---> 87\u001b[0m \u001b[39mself\u001b[39;49m\u001b[39m.\u001b[39;49meval()\n",
      "File \u001b[1;32md:\\Vincent\\Documents\\Vincent_Hust_20212\\132652 - Planning_Optimization\\Project\\get_goods\\get_goods\\library\\EA.py:55\u001b[0m, in \u001b[0;36mPopulation.eval\u001b[1;34m(self)\u001b[0m\n\u001b[0;32m     53\u001b[0m     \u001b[39mself\u001b[39m[i]\u001b[39m.\u001b[39meval(data)\n\u001b[0;32m     54\u001b[0m \u001b[39mself\u001b[39m\u001b[39m.\u001b[39mcost_pop[i] \u001b[39m=\u001b[39m \u001b[39mself\u001b[39m[i]\u001b[39m.\u001b[39mfcost\n\u001b[1;32m---> 55\u001b[0m \u001b[39mself\u001b[39m\u001b[39m.\u001b[39mranking \u001b[39m=\u001b[39m np\u001b[39m.\u001b[39margsort(np\u001b[39m.\u001b[39;49margsort(\u001b[39mself\u001b[39;49m\u001b[39m.\u001b[39;49mcost_pop))\n",
      "File \u001b[1;32m<__array_function__ internals>:5\u001b[0m, in \u001b[0;36margsort\u001b[1;34m(*args, **kwargs)\u001b[0m\n",
      "File \u001b[1;32md:\\Vincent\\Ananconda3\\envs\\learnCS\\lib\\site-packages\\numpy\\core\\fromnumeric.py:1114\u001b[0m, in \u001b[0;36margsort\u001b[1;34m(a, axis, kind, order)\u001b[0m\n\u001b[0;32m   1006\u001b[0m \u001b[39m@array_function_dispatch\u001b[39m(_argsort_dispatcher)\n\u001b[0;32m   1007\u001b[0m \u001b[39mdef\u001b[39;00m \u001b[39margsort\u001b[39m(a, axis\u001b[39m=\u001b[39m\u001b[39m-\u001b[39m\u001b[39m1\u001b[39m, kind\u001b[39m=\u001b[39m\u001b[39mNone\u001b[39;00m, order\u001b[39m=\u001b[39m\u001b[39mNone\u001b[39;00m):\n\u001b[0;32m   1008\u001b[0m     \u001b[39m\"\"\"\u001b[39;00m\n\u001b[0;32m   1009\u001b[0m \u001b[39m    Returns the indices that would sort an array.\u001b[39;00m\n\u001b[0;32m   1010\u001b[0m \n\u001b[1;32m   (...)\u001b[0m\n\u001b[0;32m   1112\u001b[0m \n\u001b[0;32m   1113\u001b[0m \u001b[39m    \"\"\"\u001b[39;00m\n\u001b[1;32m-> 1114\u001b[0m     \u001b[39mreturn\u001b[39;00m _wrapfunc(a, \u001b[39m'\u001b[39;49m\u001b[39margsort\u001b[39;49m\u001b[39m'\u001b[39;49m, axis\u001b[39m=\u001b[39;49maxis, kind\u001b[39m=\u001b[39;49mkind, order\u001b[39m=\u001b[39;49morder)\n",
      "File \u001b[1;32md:\\Vincent\\Ananconda3\\envs\\learnCS\\lib\\site-packages\\numpy\\core\\fromnumeric.py:57\u001b[0m, in \u001b[0;36m_wrapfunc\u001b[1;34m(obj, method, *args, **kwds)\u001b[0m\n\u001b[0;32m     54\u001b[0m     \u001b[39mreturn\u001b[39;00m _wrapit(obj, method, \u001b[39m*\u001b[39margs, \u001b[39m*\u001b[39m\u001b[39m*\u001b[39mkwds)\n\u001b[0;32m     56\u001b[0m \u001b[39mtry\u001b[39;00m:\n\u001b[1;32m---> 57\u001b[0m     \u001b[39mreturn\u001b[39;00m bound(\u001b[39m*\u001b[39margs, \u001b[39m*\u001b[39m\u001b[39m*\u001b[39mkwds)\n\u001b[0;32m     58\u001b[0m \u001b[39mexcept\u001b[39;00m \u001b[39mTypeError\u001b[39;00m:\n\u001b[0;32m     59\u001b[0m     \u001b[39m# A TypeError occurs if the object does have such a method in its\u001b[39;00m\n\u001b[0;32m     60\u001b[0m     \u001b[39m# class, but its signature is not identical to that of NumPy's. This\u001b[39;00m\n\u001b[1;32m   (...)\u001b[0m\n\u001b[0;32m     64\u001b[0m     \u001b[39m# Call _wrapit from within the except clause to ensure a potential\u001b[39;00m\n\u001b[0;32m     65\u001b[0m     \u001b[39m# exception has a traceback chain.\u001b[39;00m\n\u001b[0;32m     66\u001b[0m     \u001b[39mreturn\u001b[39;00m _wrapit(obj, method, \u001b[39m*\u001b[39margs, \u001b[39m*\u001b[39m\u001b[39m*\u001b[39mkwds)\n",
      "\u001b[1;31mKeyboardInterrupt\u001b[0m: "
     ]
    }
   ],
   "source": [
    "ga_model.fit(\n",
    "    num_generations=100,\n",
    "    num_individuals=1000\n",
    ")"
   ]
  },
  {
   "cell_type": "code",
   "execution_count": null,
   "metadata": {},
   "outputs": [
    {
     "data": {
      "image/png": "[encoded data removed]",
      "text/plain": [
       "<Figure size 432x288 with 1 Axes>"
      ]
     },
     "metadata": {
      "needs_background": "light"
     },
     "output_type": "display_data"
    }
   ],
   "source": [
    "import matplotlib.pyplot as plt\n",
    "plt.plot(ga_model.res)\n",
    "plt.xlabel(\"Epoch\")\n",
    "plt.ylabel(\"Cost\")\n",
    "plt.show()"
   ]
  },
  {
   "cell_type": "code",
   "execution_count": null,
   "metadata": {},
   "outputs": [],
   "source": [
    "from library.EA import *\n",
    "from library.utils.operator.selection import ElitismSelection\n",
    "from library.utils.operator.crossover import OX_Crossover\n",
    "from library.utils.operator.mutation import SwapMutation\n",
    "from library.model.ga import model\n",
    "from library.utils.load_data import Load\n",
    "\n"
   ]
  },
  {
   "cell_type": "code",
   "execution_count": null,
   "metadata": {},
   "outputs": [
    {
     "data": {
      "text/plain": [
       "Number of the categories goods is 5.        \n",
       "Number of the bins is 3           \n",
       "Matrix Q - 5x3 save information of the goods position and bins with 5 categories goods and 3 bins.        \n",
       "Matrix d - 4x4 save distance between bins        \n",
       "q size 5 is array save the orders with each category goods: [8 8 8 8 6]"
      ]
     },
     "execution_count": 23,
     "metadata": {},
     "output_type": "execute_result"
    }
   ],
   "source": [
    "data = Load()\n",
    "data(\"library/data/data_5_3.txt\")\n",
    "data"
   ]
  },
  {
   "cell_type": "code",
   "execution_count": null,
   "metadata": {},
   "outputs": [],
   "source": [
    "p = Population(5, data.num_bins + 1, data, eval_initial=True, seed=5)\n"
   ]
  },
  {
   "cell_type": "code",
   "execution_count": null,
   "metadata": {},
   "outputs": [
    {
     "name": "stdout",
     "output_type": "stream",
     "text": [
      "\n",
      "Genes: [0 3 1 2]\n",
      "Factorial cost: 16\n",
      "Solution: [0 3 1]\n",
      " \n",
      "Genes: [0 2 1 3]\n",
      "Factorial cost: 17\n",
      "Solution: [0 2 1 3]\n",
      "\n"
     ]
    },
    {
     "data": {
      "text/plain": [
       "(\n",
       " Genes: [0 3 1 2]\n",
       " Factorial cost: inf\n",
       " Solution: None,\n",
       " \n",
       " Genes: [0 2 1 3]\n",
       " Factorial cost: inf\n",
       " Solution: None)"
      ]
     },
     "execution_count": 25,
     "metadata": {},
     "output_type": "execute_result"
    }
   ],
   "source": [
    "from library.utils.operator.crossover import OX_Crossover\n",
    "p1 = p[1]\n",
    "p2 = p[2]\n",
    "c = OX_Crossover()\n",
    "print(p1, p2)\n",
    "c(p1, p2)"
   ]
  },
  {
   "cell_type": "code",
   "execution_count": null,
   "metadata": {},
   "outputs": [
    {
     "name": "stdout",
     "output_type": "stream",
     "text": [
      "[3 1 2] [2 1 3]\n"
     ]
    }
   ],
   "source": [
    "p1 = p1.genes[1:]\n",
    "p2 = p2.genes[1:]\n",
    "\n",
    "print(p1, p2)"
   ]
  },
  {
   "cell_type": "code",
   "execution_count": null,
   "metadata": {},
   "outputs": [
    {
     "name": "stdout",
     "output_type": "stream",
     "text": [
      "[3 1 0]\n"
     ]
    }
   ],
   "source": [
    "o1 = np.zeros(3, dtype=int)\n",
    "o2 = np.zeros(3, dtype=int)\n",
    "i1 = 0\n",
    "i2 = 2\n",
    "o1[i1 : i2] = p1[i1 : i2]\n",
    "i = 0\n",
    "print(o1)\n",
    "for gene in p2:\n",
    "    if i == len(p2):\n",
    "        break\n",
    "    if i == i1:\n",
    "        i = i2\n",
    "    if gene not in o1:\n",
    "        o1[i] = gene\n",
    "        i += 1"
   ]
  },
  {
   "cell_type": "code",
   "execution_count": null,
   "metadata": {},
   "outputs": [
    {
     "data": {
      "text/plain": [
       "array([3, 1, 2])"
      ]
     },
     "execution_count": 28,
     "metadata": {},
     "output_type": "execute_result"
    }
   ],
   "source": [
    "o1"
   ]
  }
 ],
 "metadata": {
  "kernelspec": {
   "display_name": "Python 3.10.4 ('learnCS')",
   "language": "python",
   "name": "python3"
  },
  "language_info": {
   "codemirror_mode": {
    "name": "ipython",
    "version": 3
   },
   "file_extension": ".py",
   "mimetype": "text/x-python",
   "name": "python",
   "nbconvert_exporter": "python",
   "pygments_lexer": "ipython3",
   "version": "3.10.4"
  },
  "orig_nbformat": 4,
  "vscode": {
   "interpreter": {
    "hash": "d2d74ce3e99bc2d991502eaa9ff6878b69f13ebfe616751bd67e96721470575f"
   }
  }
 },
 "nbformat": 4,
 "nbformat_minor": 2
}
