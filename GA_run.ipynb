{
 "cells": [
  {
   "cell_type": "code",
   "execution_count": 18,
   "metadata": {},
   "outputs": [],
   "source": [
    "from library.EA import *\n",
    "from library.utils.operator.selection import ElitismSelection\n",
    "from library.utils.operator.crossover import OX_Crossover\n",
    "from library.utils.operator.mutation import SwapMutation\n",
    "from library.model.ga import model\n",
    "from library.utils.load_data import Load\n",
    "\n"
   ]
  },
  {
   "cell_type": "code",
   "execution_count": 19,
   "metadata": {},
   "outputs": [],
   "source": [
    "ga_model = model()\n",
    "\n",
    "ga_model.compile(\n",
    "    data_loc=\"library/data/txt_data/case_5.txt\",\n",
    "    crossover=OX_Crossover(),\n",
    "    mutation=SwapMutation(),\n",
    "    selection=ElitismSelection()\n",
    ")\n"
   ]
  },
  {
   "cell_type": "code",
   "execution_count": 20,
   "metadata": {},
   "outputs": [
    {
     "name": "stdout",
     "output_type": "stream",
     "text": [
      "Epoch 1:\n",
      "[ 0 12  3 18 11 22 14 20 10 24 23 28 21 29] - 2968\n",
      "Epoch 2:\n",
      "[ 0 12  3 18 11 22 14 20 10 24 23 28 21 29] - 2968\n",
      "Epoch 3:\n",
      "[ 0 12  3 18 11 22 14 20 10 24 23 28 21 29] - 2968\n",
      "Epoch 4:\n",
      "[ 0 12  3 18 11 22 14 20 10 24 23 28 21 29] - 2968\n",
      "Epoch 5:\n",
      "[ 0 12  3 18 11 22 14 20 10 24 23 28 21 29] - 2968\n",
      "Epoch 6:\n",
      "[ 0 12  3 18 11 22 14 20 10 24 23 28 21 29] - 2968\n",
      "Epoch 7:\n",
      "[ 0 12  3 18 11 22 14 20 10 24 23 28 21 29] - 2968\n",
      "Epoch 8:\n",
      "[ 0 12  3 18 11 22 14 20 10 24 23 28 21 29] - 2968\n",
      "Epoch 9:\n",
      "[ 0 12  3 18 11 22 14 20 10 24 23 28 21 29] - 2968\n",
      "Epoch 10:\n",
      "[ 0 12  3 18 11 22 14 20 10 24 23 28 21 29] - 2968\n",
      "Epoch 11:\n",
      "[ 0  8 17 29 14  2 21  4 20 10 28 16 26 15 11] - 2693\n",
      "Epoch 12:\n",
      "[ 0  8 17 29 14  2 21  4 20 10 28 16 26 15 11] - 2693\n",
      "Epoch 13:\n",
      "[ 0  8 17 29 14  2 21  4 20 10 28 16 26 15 11] - 2693\n",
      "Epoch 14:\n",
      "[ 0  8 17 29 14  2 21  4 20 10 28 16 26 15 11] - 2693\n",
      "Epoch 15:\n",
      "[ 0  8 17 29 14  2 21  4 20 10 28 16 26 15 11] - 2693\n",
      "Epoch 16:\n",
      "[ 0 29 13  3 10 19 15 16  8 12  4 25  2 17] - 2372\n",
      "Epoch 17:\n",
      "[ 0 29 13  3 10 19 15 16  8 12  4 25  2 17] - 2372\n",
      "Epoch 18:\n",
      "[ 0 29 13  3 10 19 15 16  8 12  4 25  2 17] - 2372\n",
      "Epoch 19:\n",
      "[ 0 29 13  3 10 19 15 16  8 12  4 25  2 17] - 2372\n",
      "Epoch 20:\n",
      "[ 0 29 13  3 10 19 15 16  8 12  4 25  2 17] - 2372\n",
      "Epoch 21:\n",
      "[ 0 29 13  3 10 19 15 16  8 12  4 25  2 17] - 2372\n",
      "Epoch 22:\n",
      "[ 0  4 12  8  2 21 15 23 16 14 20 10 29] - 2244\n",
      "Epoch 23:\n",
      "[ 0  4 12  8  2 21 15 23 16 14 20 10 29] - 2244\n",
      "Epoch 24:\n",
      "[ 0  4 12  8  2 21 15 23 16 14 20 10 29] - 2244\n",
      "Epoch 25:\n",
      "[ 0  4 12  8  2 21 15 23 16 14 20 10 29] - 2244\n",
      "Epoch 26:\n",
      "[ 0  4 12  8  2 21 15 23 16 14 20 10 29] - 2244\n",
      "Epoch 27:\n",
      "[ 0  4 12  8  2 21 15 23 16 14 20 10 29] - 2244\n",
      "Epoch 28:\n",
      "[ 0  8  2 17 29 14 22 15 30 23  1 10 19 21  4] - 2162\n",
      "Epoch 29:\n",
      "[ 0 29 14 22  2  3 10 19 15 16  8 12  4] - 1809\n",
      "Epoch 30:\n",
      "[ 0 29 14 22  2  3 10 19 15 16  8 12  4] - 1809\n",
      "Epoch 31:\n",
      "[ 0 29 14 22  2  3 10 19 15 16  8 12  4] - 1809\n",
      "Epoch 32:\n",
      "[ 0 29 14 22  2  3 10 19 15 16  8 12  4] - 1809\n",
      "Epoch 33:\n",
      "[ 0 29 14 22  2  3 10 19 15 16  8 12  4] - 1809\n",
      "Epoch 34:\n",
      "[ 0 29 14 22  2  3 10 19 15 16  8 12  4] - 1809\n",
      "Epoch 35:\n",
      "[ 0 29 14 22  2  3 10 19 15 16  8 12  4] - 1809\n",
      "Epoch 36:\n",
      "[ 0 29 14 22  2  3 10 19 15 16  8 12  4] - 1809\n",
      "Epoch 37:\n",
      "[ 0 29 14 22  2  3 10 19 15 16  8 12  4] - 1809\n",
      "Epoch 38:\n",
      "[ 0 29 14 22  2  3 10 19 15 12  4 21 23 30] - 1540\n",
      "Epoch 39:\n",
      "[ 0 29 14 22  2  3 10 19 15 12  4 21 23 30] - 1540\n",
      "Epoch 40:\n",
      "[ 0 29 14 22  2  3 10 19 15 12  4 21 23 30] - 1540\n",
      "Epoch 41:\n",
      "[ 0 29 14 22  2  3 10 19 15 12  4 21 23 30] - 1540\n",
      "Epoch 42:\n",
      "[ 0 29 14 22  2  3 10 19 15 12  4 21 23 30] - 1540\n",
      "Epoch 43:\n",
      "[ 0 29 14 22  2  3 10 19 15 12  4 21 23 30] - 1540\n",
      "Epoch 44:\n",
      "[ 0 29 14 22  2  3 10 19 15 12  4 21 23 30] - 1540\n",
      "Epoch 45:\n",
      "[ 0 29 14 22  2  3 10 19 15 12  4 21 23 30] - 1540\n",
      "Epoch 46:\n",
      "[ 0 29 14 22  2  3 10 20 19 15  8 12 28  4] - 1516\n",
      "Epoch 47:\n",
      "[ 0 29 14 22  2  3 10 20 19 15  8 12 28  4] - 1516\n",
      "Epoch 48:\n",
      "[ 0 29 14 22  2  3 10 20 19 15  8 12 28  4] - 1516\n",
      "Epoch 49:\n",
      "[ 0 29 14 22  2  3 10 20 19 15  8 12 28  4] - 1516\n",
      "Epoch 50:\n",
      "[ 0 29 14 22  2  3 10 19 15 16  4 12 11] - 1401\n",
      "Epoch 51:\n",
      "[ 0 29 14 22  2  3 10 19 15 16  4 12 11] - 1401\n",
      "Epoch 52:\n",
      "[ 0 29 14 22  2  3 10 19 15 16  4 12 11] - 1401\n",
      "Epoch 53:\n",
      "[ 0 29 14 22  2  3 10 19 15 16  4 12 11] - 1401\n",
      "Epoch 54:\n",
      "[ 0 29 14 22  2  3 10 19 15 16  4 12 11] - 1401\n",
      "Epoch 55:\n",
      "[ 0 29 14 22  2  3 10 19 15 12  4 18  6 30] - 1280\n",
      "Epoch 56:\n",
      "[ 0 29 14 22  2  3 10 19 15 12  4 18  6 30] - 1280\n",
      "Epoch 57:\n",
      "[ 0 29 14 22  2  3 10 19 15 12  4 18  6 30] - 1280\n",
      "Epoch 58:\n",
      "[ 0 29 14 22  2  3 10 19 15 12  4 18  6 30] - 1280\n",
      "Epoch 59:\n",
      "[ 0 29 14 22  2  3 10 19 15 12  4 18  6 30] - 1280\n",
      "Epoch 60:\n",
      "[ 0 29 14 22  2  3 10 19 15 12  4 18  6 30] - 1280\n",
      "Epoch 61:\n",
      "[ 0 29 14 22  2  3 10 19 15 12  4 18  6 30] - 1280\n",
      "Epoch 62:\n",
      "[ 0 29 14 22  2  3 10 19 15 12  4 18  6 30] - 1280\n",
      "Epoch 63:\n",
      "[ 0 29 14 22  2  3 10 19 15 12  4 18  6 30] - 1280\n",
      "Epoch 64:\n",
      "[ 0 29 14 22  2  3 10 19 15 12  4 18  6 30] - 1280\n",
      "Epoch 65:\n",
      "[ 0 29 14 22  2  3 10 19 15 12  4 18  6 30] - 1280\n",
      "Epoch 66:\n",
      "[ 0 29 14 22  2  3 10 19 15 12  4 18  6 30] - 1280\n",
      "Epoch 67:\n",
      "[ 0 29 14 22  2  3 10 19 15 12  4 18  6 30] - 1280\n",
      "Epoch 68:\n",
      "[ 0 29 14 22  2  3 10 19 15 12  4 18  6 30] - 1280\n",
      "Epoch 69:\n",
      "[ 0 29 14 22  2  3 10 19 15 12  4 18  6 30] - 1280\n",
      "Epoch 70:\n",
      "[ 0 29 14 22  2  3 10 19 15 12  4 18  6 30] - 1280\n",
      "Epoch 71:\n",
      "[ 0 29 14 22  2  3 10 19 15 12  4 18  6 30] - 1280\n",
      "Epoch 72:\n",
      "[ 0 29 14 22  2  3 10 19 15 12  4 18  6 30] - 1280\n",
      "Epoch 73:\n",
      "[ 0 29 14 22  2  3 10 19 15 12  4 18  6 30] - 1280\n",
      "Epoch 74:\n",
      "[ 0 29 14 22  2  3 10 19 15 12  4 18  6 30] - 1280\n",
      "Epoch 75:\n",
      "[ 0 29 14 22  2  3 10 19 15 12  4 18  6 30] - 1280\n",
      "Epoch 76:\n",
      "[ 0 29 14 22  2  3 10 19 15 12  4 18  6 30] - 1280\n",
      "Epoch 77:\n",
      "[ 0 29 14 22  2  3 10 19 15 12  4 18  6 30] - 1280\n",
      "Epoch 78:\n",
      "[ 0 29 14 22  2  3 10 19 15 12  4 18  6 30] - 1280\n",
      "Epoch 79:\n",
      "[ 0 29 14 22  2  3 10 19 15 12  4 18  6 30] - 1280\n",
      "Epoch 80:\n",
      "[ 0 29 14 22  2  3 10 19 15 12  4 18  6 30] - 1280\n",
      "Epoch 81:\n",
      "[ 0 29 14 22  2  3 10 19 15 12  4 18  6 30] - 1280\n",
      "Epoch 82:\n",
      "[ 0 29 14 22  2  3 10 19 15 12  4 18  6 30] - 1280\n",
      "Epoch 83:\n",
      "[ 0 29 14 22  2  3 10 19 15 12  4 18  6 30] - 1280\n",
      "Epoch 84:\n",
      "[ 0 29 14 22  2  3 10 19 15 12  4 18  6 30] - 1280\n",
      "Epoch 85:\n",
      "[ 0 29 14 22  2  3 10 19 15 12  4 18  6 30] - 1280\n",
      "Epoch 86:\n",
      "[ 0 29 14 22  2  3 10 19 15 12  4 18  6 30] - 1280\n",
      "Epoch 87:\n",
      "[ 0 29 14 22  2  3 10 19 15 12  4 18  6 30] - 1280\n",
      "Epoch 88:\n",
      "[ 0 29 14 22  2  3 10 19 15 12  4 18  6 30] - 1280\n",
      "Epoch 89:\n",
      "[ 0 29 14 22  2  3 10 19 15 12  4 18  6 30] - 1280\n",
      "Epoch 90:\n",
      "[ 0 29 14 22  2  3 10 19 15 12  4 18  6 30] - 1280\n",
      "Epoch 91:\n",
      "[ 0 29 14 22  2  3 10 19 15 12  4 18  6 30] - 1280\n",
      "Epoch 92:\n",
      "[ 0 29 14 22  2  3 10 19 15 12  4 18  6 30] - 1280\n",
      "Epoch 93:\n",
      "[ 0 29 14 22  2  3 10 19 15 12  4 18  6 30] - 1280\n",
      "Epoch 94:\n",
      "[ 0 29 14 22  2  3 10 19 15 12  4 18  6 30] - 1280\n",
      "Epoch 95:\n",
      "[ 0 29 14 22  2  3 10 19 15 12  4 18  6 30] - 1280\n",
      "Epoch 96:\n",
      "[ 0 29 14 22  2  3 10 19 15 12  4 18  6 30] - 1280\n",
      "Epoch 97:\n",
      "[ 0 29 14 22  2  3 10 19 15 12  4 18  6 30] - 1280\n",
      "Epoch 98:\n",
      "[ 0 29 14 22  2  3 10 19 15 12  4 18  6 30] - 1280\n",
      "Epoch 99:\n",
      "[ 0 29 14 22  2  3 10 19 15 12  4 18  6 30] - 1280\n",
      "Epoch 100:\n",
      "[ 0 29 14 22  2  3 10 19 15 12  4 18  6 30] - 1280\n"
     ]
    },
    {
     "data": {
      "text/plain": [
       "\n",
       "Genes: [ 0 29 14 22  2  3 10 19 15 12  4 18  6 30  8 21 23 11 13 27 20 24 16 25\n",
       " 17 28  5  7  9  1 26]\n",
       "Factorial cost: 1280\n",
       "Solution: [ 0 29 14 22  2  3 10 19 15 12  4 18  6 30]"
      ]
     },
     "execution_count": 20,
     "metadata": {},
     "output_type": "execute_result"
    }
   ],
   "source": [
    "ga_model.fit(\n",
    "    num_generations=100,\n",
    "    num_individuals=1000\n",
    ")"
   ]
  },
  {
   "cell_type": "code",
   "execution_count": 21,
   "metadata": {},
   "outputs": [
    {
     "data": {
      "image/png": "[encoded data removed]",
      "text/plain": [
       "<Figure size 432x288 with 1 Axes>"
      ]
     },
     "metadata": {
      "needs_background": "light"
     },
     "output_type": "display_data"
    }
   ],
   "source": [
    "import matplotlib.pyplot as plt\n",
    "plt.plot(ga_model.res)\n",
    "plt.xlabel(\"Epoch\")\n",
    "plt.ylabel(\"Cost\")\n",
    "plt.show()"
   ]
  },
  {
   "cell_type": "code",
   "execution_count": 22,
   "metadata": {},
   "outputs": [],
   "source": [
    "from library.EA import *\n",
    "from library.utils.operator.selection import ElitismSelection\n",
    "from library.utils.operator.crossover import OX_Crossover\n",
    "from library.utils.operator.mutation import SwapMutation\n",
    "from library.model.ga import model\n",
    "from library.utils.load_data import Load\n",
    "\n"
   ]
  },
  {
   "cell_type": "code",
   "execution_count": 23,
   "metadata": {},
   "outputs": [
    {
     "data": {
      "text/plain": [
       "Number of the categories goods is 5.        \n",
       "Number of the bins is 3           \n",
       "Matrix Q - 5x3 save information of the goods position and bins with 5 categories goods and 3 bins.        \n",
       "Matrix d - 4x4 save distance between bins        \n",
       "q size 5 is array save the orders with each category goods: [8 8 8 8 6]"
      ]
     },
     "execution_count": 23,
     "metadata": {},
     "output_type": "execute_result"
    }
   ],
   "source": [
    "data = Load()\n",
    "data(\"library/data/data_5_3.txt\")\n",
    "data"
   ]
  },
  {
   "cell_type": "code",
   "execution_count": 24,
   "metadata": {},
   "outputs": [],
   "source": [
    "p = Population(5, data.num_bins + 1, data, eval_initial=True, seed=5)\n"
   ]
  },
  {
   "cell_type": "code",
   "execution_count": 25,
   "metadata": {},
   "outputs": [
    {
     "name": "stdout",
     "output_type": "stream",
     "text": [
      "\n",
      "Genes: [0 3 1 2]\n",
      "Factorial cost: 16\n",
      "Solution: [0 3 1]\n",
      " \n",
      "Genes: [0 2 1 3]\n",
      "Factorial cost: 17\n",
      "Solution: [0 2 1 3]\n",
      "\n"
     ]
    },
    {
     "data": {
      "text/plain": [
       "(\n",
       " Genes: [0 3 1 2]\n",
       " Factorial cost: inf\n",
       " Solution: None,\n",
       " \n",
       " Genes: [0 2 1 3]\n",
       " Factorial cost: inf\n",
       " Solution: None)"
      ]
     },
     "execution_count": 25,
     "metadata": {},
     "output_type": "execute_result"
    }
   ],
   "source": [
    "from library.utils.operator.crossover import OX_Crossover\n",
    "p1 = p[1]\n",
    "p2 = p[2]\n",
    "c = OX_Crossover()\n",
    "print(p1, p2)\n",
    "c(p1, p2)"
   ]
  },
  {
   "cell_type": "code",
   "execution_count": 26,
   "metadata": {},
   "outputs": [
    {
     "name": "stdout",
     "output_type": "stream",
     "text": [
      "[3 1 2] [2 1 3]\n"
     ]
    }
   ],
   "source": [
    "p1 = p1.genes[1:]\n",
    "p2 = p2.genes[1:]\n",
    "\n",
    "print(p1, p2)"
   ]
  },
  {
   "cell_type": "code",
   "execution_count": 27,
   "metadata": {},
   "outputs": [
    {
     "name": "stdout",
     "output_type": "stream",
     "text": [
      "[3 1 0]\n"
     ]
    }
   ],
   "source": [
    "o1 = np.zeros(3, dtype=int)\n",
    "o2 = np.zeros(3, dtype=int)\n",
    "i1 = 0\n",
    "i2 = 2\n",
    "o1[i1 : i2] = p1[i1 : i2]\n",
    "i = 0\n",
    "print(o1)\n",
    "for gene in p2:\n",
    "    if i == len(p2):\n",
    "        break\n",
    "    if i == i1:\n",
    "        i = i2\n",
    "    if gene not in o1:\n",
    "        o1[i] = gene\n",
    "        i += 1"
   ]
  },
  {
   "cell_type": "code",
   "execution_count": 28,
   "metadata": {},
   "outputs": [
    {
     "data": {
      "text/plain": [
       "array([3, 1, 2])"
      ]
     },
     "execution_count": 28,
     "metadata": {},
     "output_type": "execute_result"
    }
   ],
   "source": [
    "o1"
   ]
  }
 ],
 "metadata": {
  "kernelspec": {
   "display_name": "Python 3.10.4 ('learnCS')",
   "language": "python",
   "name": "python3"
  },
  "language_info": {
   "codemirror_mode": {
    "name": "ipython",
    "version": 3
   },
   "file_extension": ".py",
   "mimetype": "text/x-python",
   "name": "python",
   "nbconvert_exporter": "python",
   "pygments_lexer": "ipython3",
   "version": "3.10.4"
  },
  "orig_nbformat": 4,
  "vscode": {
   "interpreter": {
    "hash": "d2d74ce3e99bc2d991502eaa9ff6878b69f13ebfe616751bd67e96721470575f"
   }
  }
 },
 "nbformat": 4,
 "nbformat_minor": 2
}
